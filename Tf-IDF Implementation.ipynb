{
 "cells": [
  {
   "cell_type": "code",
   "execution_count": 26,
   "id": "9431a547-bf55-4a0e-b3b4-a9e5e7b603f7",
   "metadata": {},
   "outputs": [],
   "source": [
    "import pandas as pd\n",
    "import math # use for log function\n",
    "from collections import Counter"
   ]
  },
  {
   "cell_type": "code",
   "execution_count": 28,
   "id": "7a9fddf1-9c62-4e09-8f25-7067f9d6dcfe",
   "metadata": {},
   "outputs": [],
   "source": [
    "file_path = \"Dataset/Processed_Reviews.csv\"\n",
    "df = pd.read_csv(file_path)\n"
   ]
  },
  {
   "cell_type": "code",
   "execution_count": 30,
   "id": "15dcf119-9050-4f48-b5d3-27ca726769d3",
   "metadata": {},
   "outputs": [],
   "source": [
    "tokenized_reviews = df['tokenized'].dropna().apply(eval)"
   ]
  },
  {
   "cell_type": "code",
   "execution_count": 32,
   "id": "70deed40-76ae-468c-83f8-a1122d1c4c9a",
   "metadata": {},
   "outputs": [],
   "source": [
    "def compute_tf(document):\n",
    " word_count = Counter(document)\n",
    " tf = {word: count / len(document) for word, count in word_count.items()}\n",
    " return tf"
   ]
  },
  {
   "cell_type": "code",
   "execution_count": 34,
   "id": "64b50ac0-686b-420b-bb08-013e9086aa94",
   "metadata": {},
   "outputs": [],
   "source": [
    "def compute_idf(documents):\n",
    " N = len(documents) # Total number of documents\n",
    " idf = {}\n",
    " all_words = set(word for doc in documents for word in doc) # Unique words\n",
    " for word in all_words:\n",
    "     count = sum(1 for doc in documents if word in doc)\n",
    "     idf[word] = math.log(N / count)\n",
    " return idf"
   ]
  },
  {
   "cell_type": "code",
   "execution_count": 36,
   "id": "aa38b8c3-fec4-47ae-ba20-19dc276748f5",
   "metadata": {},
   "outputs": [],
   "source": [
    "def compute_tfidf(document, idf):\n",
    " tfidf = {}\n",
    " tf = compute_tf(document) # Get TF values for the document\n",
    " for word, tf_value in tf.items():\n",
    "     tfidf[word] = tf_value * idf[word] # Multiply TF and IDF\n",
    " return tfidf"
   ]
  },
  {
   "cell_type": "code",
   "execution_count": 38,
   "id": "6f1f4097-a8c8-4160-b96d-c89d5a341a1e",
   "metadata": {},
   "outputs": [],
   "source": [
    "documents = tokenized_reviews.tolist()"
   ]
  },
  {
   "cell_type": "code",
   "execution_count": 40,
   "id": "37d1e73b-1e65-4941-88b0-e42680a53266",
   "metadata": {},
   "outputs": [],
   "source": [
    "tf_data = [compute_tf(doc) for doc in documents]\n",
    "tf_df = pd.DataFrame(tf_data).fillna(0)\n",
    "tf_df.to_csv(\"tf_scores.csv\", index=False)"
   ]
  },
  {
   "cell_type": "code",
   "execution_count": 42,
   "id": "24e2392e-e095-4e0e-bd03-535b08aae98e",
   "metadata": {},
   "outputs": [],
   "source": [
    "idf = compute_idf(documents)\n",
    "idf_df = pd.DataFrame([idf]).fillna(0)\n",
    "idf_df.to_csv(\"idf_scores.csv\", index=False)"
   ]
  },
  {
   "cell_type": "code",
   "execution_count": 44,
   "id": "08021230-d1c3-46eb-971a-69b3f7e26514",
   "metadata": {},
   "outputs": [],
   "source": [
    "tfidf_data = [compute_tfidf(doc, idf) for doc in documents]\n",
    "tfidf_df = pd.DataFrame(tfidf_data).fillna(0)\n",
    "tfidf_df.to_csv(\"tfidf_scores.csv\", index=False)"
   ]
  }
 ],
 "metadata": {
  "kernelspec": {
   "display_name": "Python 3 (ipykernel)",
   "language": "python",
   "name": "python3"
  },
  "language_info": {
   "codemirror_mode": {
    "name": "ipython",
    "version": 3
   },
   "file_extension": ".py",
   "mimetype": "text/x-python",
   "name": "python",
   "nbconvert_exporter": "python",
   "pygments_lexer": "ipython3",
   "version": "3.12.4"
  }
 },
 "nbformat": 4,
 "nbformat_minor": 5
}
