{
 "cells": [
  {
   "cell_type": "code",
   "execution_count": 88,
   "id": "efc41772-cf1b-49fc-921e-285914afa2e1",
   "metadata": {
    "jupyter": {
     "source_hidden": true
    }
   },
   "outputs": [],
   "source": [
    "from collections import Counter #count word occurrences\n",
    "import pandas as pd"
   ]
  },
  {
   "cell_type": "code",
   "execution_count": 90,
   "id": "cfcab1dd-86c8-48c6-88c2-43af68ecc2cf",
   "metadata": {},
   "outputs": [],
   "source": [
    "file_path = \"Dataset/Processed_Reviews.csv\"\n",
    "df = pd.read_csv(file_path)"
   ]
  },
  {
   "cell_type": "code",
   "execution_count": 92,
   "id": "57fb4eb3-99f4-4817-96ac-bbc7644ed19d",
   "metadata": {},
   "outputs": [],
   "source": [
    "tokenized_reviews = df['tokenized'].dropna().apply(eval)"
   ]
  },
  {
   "cell_type": "code",
   "execution_count": 94,
   "id": "a355d7c0-bba8-4b41-8673-612274bf14b9",
   "metadata": {},
   "outputs": [],
   "source": [
    "all_words = [word for review in tokenized_reviews for word in review]\n",
    "unique_words = list(set(all_words))"
   ]
  },
  {
   "cell_type": "code",
   "execution_count": 96,
   "id": "59ada10d-0833-46d1-99f0-baa882aef297",
   "metadata": {},
   "outputs": [],
   "source": [
    "word_freq = Counter(all_words)\n",
    "sorted_word_freq = dict(sorted(word_freq.items(), key=lambda item: item[1],\n",
    "reverse=True))"
   ]
  },
  {
   "cell_type": "code",
   "execution_count": 98,
   "id": "40f4a744-3dd5-408b-aa96-e847e5ee8c00",
   "metadata": {},
   "outputs": [],
   "source": [
    "document_vectors = []\n",
    "for review in tokenized_reviews:\n",
    " document_vector = [1 if word in review else 0 for word in sorted_word_freq.keys()]\n",
    " document_vectors.append(document_vector)"
   ]
  },
  {
   "cell_type": "code",
   "execution_count": 100,
   "id": "425c8fbd-0b51-453c-b4f2-07b323de1bd3",
   "metadata": {},
   "outputs": [],
   "source": [
    "doc_vectors_df = pd.DataFrame(document_vectors, columns=sorted_word_freq.keys())"
   ]
  },
  {
   "cell_type": "code",
   "execution_count": 102,
   "id": "220f03ea-1ec3-4541-a2b1-c7f0c8a983ca",
   "metadata": {},
   "outputs": [],
   "source": [
    "doc_vectors_df.to_csv(\"document_vectors.csv\", index=False)"
   ]
  },
  {
   "cell_type": "code",
   "execution_count": 104,
   "id": "c3d155dc-a4ab-41c8-ba50-23ca2edf4036",
   "metadata": {},
   "outputs": [
    {
     "name": "stdout",
     "output_type": "stream",
     "text": [
      "Word Frequency Table:\n",
      "           Word  Frequency\n",
      "0       product          7\n",
      "1       quality          3\n",
      "2         great          2\n",
      "3       amazing          2\n",
      "4          love          2\n",
      "5       awesome          2\n",
      "6          work          2\n",
      "7     perfectly          2\n",
      "8          life          2\n",
      "9        expect          2\n",
      "10       arrive          1\n",
      "11         time          1\n",
      "12    packaging          1\n",
      "13        amaze          1\n",
      "14          buy          1\n",
      "15        phone          1\n",
      "16           hz          1\n",
      "17      display          1\n",
      "18      totally          1\n",
      "19        worth          1\n",
      "20          wow          1\n",
      "21          bit          1\n",
      "22    expensive          1\n",
      "23       laptop          1\n",
      "24         fine          1\n",
      "25        check          1\n",
      "26         full          1\n",
      "27       detail          1\n",
      "28     purchase          1\n",
      "29        happy          1\n",
      "30      battery          1\n",
      "31    excellent          1\n",
      "32       charge          1\n",
      "33        cable          1\n",
      "34        short          1\n",
      "35          can          1\n",
      "36          not          1\n",
      "37      believe          1\n",
      "38         good          1\n",
      "39         fast          1\n",
      "40     delivery          1\n",
      "41       honest          1\n",
      "42         much          1\n",
      "43           oh          1\n",
      "44          god          1\n",
      "45         best          1\n",
      "46         ever          1\n",
      "47          use          1\n",
      "48         shoe          1\n",
      "49  comfortable          1\n",
      "50          fit          1\n",
      "51       nicely          1\n",
      "52          jog          1\n"
     ]
    }
   ],
   "source": [
    "word_freq_df = pd.DataFrame(list(sorted_word_freq.items()), columns=[\"Word\",\n",
    "\"Frequency\"])\n",
    "print(\"Word Frequency Table:\")\n",
    "print(word_freq_df)"
   ]
  }
 ],
 "metadata": {
  "kernelspec": {
   "display_name": "Python 3 (ipykernel)",
   "language": "python",
   "name": "python3"
  },
  "language_info": {
   "codemirror_mode": {
    "name": "ipython",
    "version": 3
   },
   "file_extension": ".py",
   "mimetype": "text/x-python",
   "name": "python",
   "nbconvert_exporter": "python",
   "pygments_lexer": "ipython3",
   "version": "3.12.4"
  }
 },
 "nbformat": 4,
 "nbformat_minor": 5
}
